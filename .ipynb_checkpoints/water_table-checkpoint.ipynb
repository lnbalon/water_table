{
 "cells": [
  {
   "cell_type": "markdown",
   "metadata": {},
   "source": [
    "## Introduction\n",
    "\n",
    "I am going to work with a new dataset from DrivenData.org. The link to the competition's main page is https://www.drivendata.org/competitions/7/pump-it-up-data-mining-the-water-table/data/."
   ]
  },
  {
   "cell_type": "markdown",
   "metadata": {},
   "source": [
    "## Data Loading"
   ]
  },
  {
   "cell_type": "code",
   "execution_count": 69,
   "metadata": {},
   "outputs": [],
   "source": [
    "# Load the necessary modules\n",
    "import pandas as pd\n",
    "import numpy as np\n",
    "import matplotlib.pyplot as plt\n",
    "import seaborn as sns\n",
    "from collections import Counter\n",
    "from sklearn.preprocessing import MinMaxScaler\n",
    "import warnings\n",
    "\n",
    "warnings.filterwarnings('ignore')\n",
    "\n",
    "%matplotlib inline"
   ]
  },
  {
   "cell_type": "code",
   "execution_count": 2,
   "metadata": {},
   "outputs": [
    {
     "data": {
      "text/html": [
       "<div>\n",
       "<style scoped>\n",
       "    .dataframe tbody tr th:only-of-type {\n",
       "        vertical-align: middle;\n",
       "    }\n",
       "\n",
       "    .dataframe tbody tr th {\n",
       "        vertical-align: top;\n",
       "    }\n",
       "\n",
       "    .dataframe thead th {\n",
       "        text-align: right;\n",
       "    }\n",
       "</style>\n",
       "<table border=\"1\" class=\"dataframe\">\n",
       "  <thead>\n",
       "    <tr style=\"text-align: right;\">\n",
       "      <th></th>\n",
       "      <th>amount_tsh</th>\n",
       "      <th>date_recorded</th>\n",
       "      <th>funder</th>\n",
       "      <th>gps_height</th>\n",
       "      <th>installer</th>\n",
       "      <th>longitude</th>\n",
       "      <th>latitude</th>\n",
       "      <th>wpt_name</th>\n",
       "      <th>num_private</th>\n",
       "      <th>basin</th>\n",
       "      <th>...</th>\n",
       "      <th>payment_type</th>\n",
       "      <th>water_quality</th>\n",
       "      <th>quality_group</th>\n",
       "      <th>quantity</th>\n",
       "      <th>quantity_group</th>\n",
       "      <th>source</th>\n",
       "      <th>source_type</th>\n",
       "      <th>source_class</th>\n",
       "      <th>waterpoint_type</th>\n",
       "      <th>waterpoint_type_group</th>\n",
       "    </tr>\n",
       "    <tr>\n",
       "      <th>id</th>\n",
       "      <th></th>\n",
       "      <th></th>\n",
       "      <th></th>\n",
       "      <th></th>\n",
       "      <th></th>\n",
       "      <th></th>\n",
       "      <th></th>\n",
       "      <th></th>\n",
       "      <th></th>\n",
       "      <th></th>\n",
       "      <th></th>\n",
       "      <th></th>\n",
       "      <th></th>\n",
       "      <th></th>\n",
       "      <th></th>\n",
       "      <th></th>\n",
       "      <th></th>\n",
       "      <th></th>\n",
       "      <th></th>\n",
       "      <th></th>\n",
       "      <th></th>\n",
       "    </tr>\n",
       "  </thead>\n",
       "  <tbody>\n",
       "    <tr>\n",
       "      <th>69572</th>\n",
       "      <td>6000.0</td>\n",
       "      <td>2011-03-14</td>\n",
       "      <td>Roman</td>\n",
       "      <td>1390</td>\n",
       "      <td>Roman</td>\n",
       "      <td>34.938093</td>\n",
       "      <td>-9.856322</td>\n",
       "      <td>none</td>\n",
       "      <td>0</td>\n",
       "      <td>Lake Nyasa</td>\n",
       "      <td>...</td>\n",
       "      <td>annually</td>\n",
       "      <td>soft</td>\n",
       "      <td>good</td>\n",
       "      <td>enough</td>\n",
       "      <td>enough</td>\n",
       "      <td>spring</td>\n",
       "      <td>spring</td>\n",
       "      <td>groundwater</td>\n",
       "      <td>communal standpipe</td>\n",
       "      <td>communal standpipe</td>\n",
       "    </tr>\n",
       "    <tr>\n",
       "      <th>8776</th>\n",
       "      <td>0.0</td>\n",
       "      <td>2013-03-06</td>\n",
       "      <td>Grumeti</td>\n",
       "      <td>1399</td>\n",
       "      <td>GRUMETI</td>\n",
       "      <td>34.698766</td>\n",
       "      <td>-2.147466</td>\n",
       "      <td>Zahanati</td>\n",
       "      <td>0</td>\n",
       "      <td>Lake Victoria</td>\n",
       "      <td>...</td>\n",
       "      <td>never pay</td>\n",
       "      <td>soft</td>\n",
       "      <td>good</td>\n",
       "      <td>insufficient</td>\n",
       "      <td>insufficient</td>\n",
       "      <td>rainwater harvesting</td>\n",
       "      <td>rainwater harvesting</td>\n",
       "      <td>surface</td>\n",
       "      <td>communal standpipe</td>\n",
       "      <td>communal standpipe</td>\n",
       "    </tr>\n",
       "    <tr>\n",
       "      <th>34310</th>\n",
       "      <td>25.0</td>\n",
       "      <td>2013-02-25</td>\n",
       "      <td>Lottery Club</td>\n",
       "      <td>686</td>\n",
       "      <td>World vision</td>\n",
       "      <td>37.460664</td>\n",
       "      <td>-3.821329</td>\n",
       "      <td>Kwa Mahundi</td>\n",
       "      <td>0</td>\n",
       "      <td>Pangani</td>\n",
       "      <td>...</td>\n",
       "      <td>per bucket</td>\n",
       "      <td>soft</td>\n",
       "      <td>good</td>\n",
       "      <td>enough</td>\n",
       "      <td>enough</td>\n",
       "      <td>dam</td>\n",
       "      <td>dam</td>\n",
       "      <td>surface</td>\n",
       "      <td>communal standpipe multiple</td>\n",
       "      <td>communal standpipe</td>\n",
       "    </tr>\n",
       "    <tr>\n",
       "      <th>67743</th>\n",
       "      <td>0.0</td>\n",
       "      <td>2013-01-28</td>\n",
       "      <td>Unicef</td>\n",
       "      <td>263</td>\n",
       "      <td>UNICEF</td>\n",
       "      <td>38.486161</td>\n",
       "      <td>-11.155298</td>\n",
       "      <td>Zahanati Ya Nanyumbu</td>\n",
       "      <td>0</td>\n",
       "      <td>Ruvuma / Southern Coast</td>\n",
       "      <td>...</td>\n",
       "      <td>never pay</td>\n",
       "      <td>soft</td>\n",
       "      <td>good</td>\n",
       "      <td>dry</td>\n",
       "      <td>dry</td>\n",
       "      <td>machine dbh</td>\n",
       "      <td>borehole</td>\n",
       "      <td>groundwater</td>\n",
       "      <td>communal standpipe multiple</td>\n",
       "      <td>communal standpipe</td>\n",
       "    </tr>\n",
       "    <tr>\n",
       "      <th>19728</th>\n",
       "      <td>0.0</td>\n",
       "      <td>2011-07-13</td>\n",
       "      <td>Action In A</td>\n",
       "      <td>0</td>\n",
       "      <td>Artisan</td>\n",
       "      <td>31.130847</td>\n",
       "      <td>-1.825359</td>\n",
       "      <td>Shuleni</td>\n",
       "      <td>0</td>\n",
       "      <td>Lake Victoria</td>\n",
       "      <td>...</td>\n",
       "      <td>never pay</td>\n",
       "      <td>soft</td>\n",
       "      <td>good</td>\n",
       "      <td>seasonal</td>\n",
       "      <td>seasonal</td>\n",
       "      <td>rainwater harvesting</td>\n",
       "      <td>rainwater harvesting</td>\n",
       "      <td>surface</td>\n",
       "      <td>communal standpipe</td>\n",
       "      <td>communal standpipe</td>\n",
       "    </tr>\n",
       "  </tbody>\n",
       "</table>\n",
       "<p>5 rows × 39 columns</p>\n",
       "</div>"
      ],
      "text/plain": [
       "       amount_tsh date_recorded        funder  gps_height     installer  \\\n",
       "id                                                                        \n",
       "69572      6000.0    2011-03-14         Roman        1390         Roman   \n",
       "8776          0.0    2013-03-06       Grumeti        1399       GRUMETI   \n",
       "34310        25.0    2013-02-25  Lottery Club         686  World vision   \n",
       "67743         0.0    2013-01-28        Unicef         263        UNICEF   \n",
       "19728         0.0    2011-07-13   Action In A           0       Artisan   \n",
       "\n",
       "       longitude   latitude              wpt_name  num_private  \\\n",
       "id                                                               \n",
       "69572  34.938093  -9.856322                  none            0   \n",
       "8776   34.698766  -2.147466              Zahanati            0   \n",
       "34310  37.460664  -3.821329           Kwa Mahundi            0   \n",
       "67743  38.486161 -11.155298  Zahanati Ya Nanyumbu            0   \n",
       "19728  31.130847  -1.825359               Shuleni            0   \n",
       "\n",
       "                         basin          ...          payment_type  \\\n",
       "id                                      ...                         \n",
       "69572               Lake Nyasa          ...              annually   \n",
       "8776             Lake Victoria          ...             never pay   \n",
       "34310                  Pangani          ...            per bucket   \n",
       "67743  Ruvuma / Southern Coast          ...             never pay   \n",
       "19728            Lake Victoria          ...             never pay   \n",
       "\n",
       "      water_quality  quality_group      quantity quantity_group  \\\n",
       "id                                                                \n",
       "69572          soft           good        enough         enough   \n",
       "8776           soft           good  insufficient   insufficient   \n",
       "34310          soft           good        enough         enough   \n",
       "67743          soft           good           dry            dry   \n",
       "19728          soft           good      seasonal       seasonal   \n",
       "\n",
       "                     source           source_type source_class  \\\n",
       "id                                                               \n",
       "69572                spring                spring  groundwater   \n",
       "8776   rainwater harvesting  rainwater harvesting      surface   \n",
       "34310                   dam                   dam      surface   \n",
       "67743           machine dbh              borehole  groundwater   \n",
       "19728  rainwater harvesting  rainwater harvesting      surface   \n",
       "\n",
       "                   waterpoint_type waterpoint_type_group  \n",
       "id                                                        \n",
       "69572           communal standpipe    communal standpipe  \n",
       "8776            communal standpipe    communal standpipe  \n",
       "34310  communal standpipe multiple    communal standpipe  \n",
       "67743  communal standpipe multiple    communal standpipe  \n",
       "19728           communal standpipe    communal standpipe  \n",
       "\n",
       "[5 rows x 39 columns]"
      ]
     },
     "execution_count": 2,
     "metadata": {},
     "output_type": "execute_result"
    }
   ],
   "source": [
    "# load the training set values, set index to be equal to id\n",
    "X_train = pd.read_csv('datasets/Pump_it_Up_Data_Mining_the_Water_Table_-_Training_set_values.csv', index_col = 0)\n",
    "X_train.head()"
   ]
  },
  {
   "cell_type": "code",
   "execution_count": 3,
   "metadata": {},
   "outputs": [
    {
     "data": {
      "text/plain": [
       "(59400, 39)"
      ]
     },
     "execution_count": 3,
     "metadata": {},
     "output_type": "execute_result"
    }
   ],
   "source": [
    "# determine the number of rows\n",
    "X_train.shape"
   ]
  },
  {
   "cell_type": "code",
   "execution_count": 4,
   "metadata": {},
   "outputs": [],
   "source": [
    "# Load the training set labels, set id as the index\n",
    "y_train = pd.read_csv('datasets/Pump_it_Up_Data_Mining_the_Water_Table_-_Training_set_labels.csv',index_col = 0)"
   ]
  },
  {
   "cell_type": "code",
   "execution_count": 5,
   "metadata": {},
   "outputs": [],
   "source": [
    "# load the test set values, set id as the index\n",
    "test = pd.read_csv('datasets/Pump_it_Up_Data_Mining_the_Water_Table_-_Test_set_values.csv',index_col = 0)"
   ]
  },
  {
   "cell_type": "code",
   "execution_count": 6,
   "metadata": {},
   "outputs": [],
   "source": [
    "# Combine the X_train and y_train for EDA\n",
    "train = X_train.copy()\n",
    "train['status_group'] = y_train"
   ]
  },
  {
   "cell_type": "code",
   "execution_count": 7,
   "metadata": {},
   "outputs": [
    {
     "data": {
      "image/png": "[encoded data removed]",
      "text/plain": [
       "<Figure size 720x576 with 1 Axes>"
      ]
     },
     "metadata": {},
     "output_type": "display_data"
    }
   ],
   "source": [
    "# create a countplot of the status_group distribution\n",
    "    \n",
    "fig,ax = plt.subplots(figsize=(10,8))\n",
    "ax = sns.countplot(x='status_group',data=train)\n",
    "plt.xlabel('pump status', weight='bold',size=12)\n",
    "plt.ylabel('count', weight='bold',size=12)\n",
    "plt.title('label distribution of the dataset', weight='bold', size=14)\n",
    "plt.tight_layout()\n",
    "plt.savefig('images/countplot_status_group.png')\n",
    "plt.show()"
   ]
  },
  {
   "cell_type": "markdown",
   "metadata": {},
   "source": [
    "## Column Analysis"
   ]
  },
  {
   "cell_type": "markdown",
   "metadata": {},
   "source": [
    "### Total Static Head"
   ]
  },
  {
   "cell_type": "code",
   "execution_count": 8,
   "metadata": {},
   "outputs": [
    {
     "data": {
      "image/png": "[encoded data removed]",
      "text/plain": [
       "<Figure size 864x432 with 1 Axes>"
      ]
     },
     "metadata": {},
     "output_type": "display_data"
    }
   ],
   "source": [
    "grouped1 = train.groupby(['status_group'])['amount_tsh'].mean()\n",
    "x_val = grouped1.index\n",
    "y_val = grouped1.values\n",
    "\n",
    "fig,ax = plt.subplots(figsize=(12,6))\n",
    "ax = sns.barplot(x=x_val, y=y_val)\n",
    "plt.xlabel('pump status', weight='bold',size=12)\n",
    "plt.ylabel('mean TSH', weight='bold',size=12)\n",
    "plt.title('Average TSH value per pump status', weight='bold', size=14)\n",
    "plt.tight_layout()\n",
    "plt.savefig('images/status_vs_tsh.png')\n",
    "plt.show()"
   ]
  },
  {
   "cell_type": "markdown",
   "metadata": {},
   "source": [
    "### Date Recorded"
   ]
  },
  {
   "cell_type": "code",
   "execution_count": 9,
   "metadata": {},
   "outputs": [
    {
     "data": {
      "text/plain": [
       "Counter({'2011': 28674, '2013': 24271, '2012': 6424, '2004': 30, '2002': 1})"
      ]
     },
     "execution_count": 9,
     "metadata": {},
     "output_type": "execute_result"
    }
   ],
   "source": [
    "year = train['date_recorded'].str.split('-').str[0]\n",
    "Counter(year)"
   ]
  },
  {
   "cell_type": "markdown",
   "metadata": {},
   "source": [
    "### Funder"
   ]
  },
  {
   "cell_type": "code",
   "execution_count": 10,
   "metadata": {},
   "outputs": [
    {
     "data": {
      "text/plain": [
       "1898"
      ]
     },
     "execution_count": 10,
     "metadata": {},
     "output_type": "execute_result"
    }
   ],
   "source": [
    "len(Counter(train['funder']))"
   ]
  },
  {
   "cell_type": "markdown",
   "metadata": {},
   "source": [
    "### Elevation"
   ]
  },
  {
   "cell_type": "code",
   "execution_count": 11,
   "metadata": {},
   "outputs": [
    {
     "data": {
      "image/png": "[encoded data removed]",
      "text/plain": [
       "<Figure size 864x432 with 1 Axes>"
      ]
     },
     "metadata": {},
     "output_type": "display_data"
    }
   ],
   "source": [
    "grouped2 = train.groupby(['status_group'])['gps_height'].mean()\n",
    "x_val = grouped2.index\n",
    "y_val = grouped2.values\n",
    "\n",
    "fig,ax = plt.subplots(figsize=(12,6))\n",
    "ax = sns.barplot(x=x_val, y=y_val)\n",
    "plt.xlabel('pump status', weight='bold',size=12)\n",
    "plt.ylabel('mean elevation', weight='bold',size=12)\n",
    "plt.title('Average elevation per pump status', weight='bold', size=14)\n",
    "plt.tight_layout()\n",
    "plt.savefig('images/status_vs_elevation.png')\n",
    "plt.show()"
   ]
  },
  {
   "cell_type": "markdown",
   "metadata": {},
   "source": [
    "### Installer"
   ]
  },
  {
   "cell_type": "code",
   "execution_count": 12,
   "metadata": {},
   "outputs": [
    {
     "data": {
      "text/plain": [
       "2146"
      ]
     },
     "execution_count": 12,
     "metadata": {},
     "output_type": "execute_result"
    }
   ],
   "source": [
    "len(Counter(train['installer']))"
   ]
  },
  {
   "cell_type": "markdown",
   "metadata": {},
   "source": [
    "### Basin"
   ]
  },
  {
   "cell_type": "code",
   "execution_count": 13,
   "metadata": {},
   "outputs": [
    {
     "data": {
      "text/plain": [
       "Counter({'Lake Nyasa': 5085,\n",
       "         'Lake Victoria': 10248,\n",
       "         'Pangani': 8940,\n",
       "         'Ruvuma / Southern Coast': 4493,\n",
       "         'Internal': 7785,\n",
       "         'Lake Tanganyika': 6432,\n",
       "         'Wami / Ruvu': 5987,\n",
       "         'Rufiji': 7976,\n",
       "         'Lake Rukwa': 2454})"
      ]
     },
     "execution_count": 13,
     "metadata": {},
     "output_type": "execute_result"
    }
   ],
   "source": [
    "Counter(train['basin'])"
   ]
  },
  {
   "cell_type": "code",
   "execution_count": 14,
   "metadata": {},
   "outputs": [
    {
     "data": {
      "image/png": "[encoded data removed]",
      "text/plain": [
       "<Figure size 1152x576 with 1 Axes>"
      ]
     },
     "metadata": {},
     "output_type": "display_data"
    }
   ],
   "source": [
    "fig,ax = plt.subplots(figsize=(16,8))\n",
    "ax = sns.countplot(x=\"basin\", hue=\"status_group\",data=train)\n",
    "plt.xlabel('basin', weight='bold',size=12)\n",
    "plt.ylabel('number', weight='bold',size=12)\n",
    "plt.title('pump status by basin', weight='bold', size=14)\n",
    "plt.tight_layout()\n",
    "plt.savefig('images/status_vs_basin.png')\n",
    "plt.show()"
   ]
  },
  {
   "cell_type": "markdown",
   "metadata": {},
   "source": [
    "### Subvillage"
   ]
  },
  {
   "cell_type": "code",
   "execution_count": 15,
   "metadata": {},
   "outputs": [
    {
     "data": {
      "text/plain": [
       "19288"
      ]
     },
     "execution_count": 15,
     "metadata": {},
     "output_type": "execute_result"
    }
   ],
   "source": [
    "len(Counter(train['subvillage']))"
   ]
  },
  {
   "cell_type": "markdown",
   "metadata": {},
   "source": [
    "### Region, region code, district code, lga, and ward"
   ]
  },
  {
   "cell_type": "code",
   "execution_count": 16,
   "metadata": {},
   "outputs": [
    {
     "data": {
      "text/plain": [
       "Counter({'Iringa': 5294,\n",
       "         'Mara': 1969,\n",
       "         'Manyara': 1583,\n",
       "         'Mtwara': 1730,\n",
       "         'Kagera': 3316,\n",
       "         'Tanga': 2547,\n",
       "         'Shinyanga': 4982,\n",
       "         'Tabora': 1959,\n",
       "         'Pwani': 2635,\n",
       "         'Ruvuma': 2640,\n",
       "         'Kilimanjaro': 4379,\n",
       "         'Rukwa': 1808,\n",
       "         'Mwanza': 3102,\n",
       "         'Kigoma': 2816,\n",
       "         'Lindi': 1546,\n",
       "         'Dodoma': 2201,\n",
       "         'Arusha': 3350,\n",
       "         'Mbeya': 4639,\n",
       "         'Singida': 2093,\n",
       "         'Morogoro': 4006,\n",
       "         'Dar es Salaam': 805})"
      ]
     },
     "execution_count": 16,
     "metadata": {},
     "output_type": "execute_result"
    }
   ],
   "source": [
    "Counter(train['region'])"
   ]
  },
  {
   "cell_type": "code",
   "execution_count": 17,
   "metadata": {},
   "outputs": [
    {
     "data": {
      "image/png": "[encoded data removed]",
      "text/plain": [
       "<Figure size 1440x576 with 1 Axes>"
      ]
     },
     "metadata": {},
     "output_type": "display_data"
    }
   ],
   "source": [
    "fig,ax = plt.subplots(figsize=(20,8))\n",
    "ax = sns.countplot(x=\"region\", hue=\"status_group\",data=train)\n",
    "plt.xlabel('region', weight='bold',size=12)\n",
    "plt.ylabel('count', weight='bold',size=12)\n",
    "plt.title('pump status by region', weight='bold', size=14)\n",
    "plt.tight_layout()\n",
    "plt.savefig('images/status_vs_region.png')\n",
    "plt.show()"
   ]
  },
  {
   "cell_type": "code",
   "execution_count": 18,
   "metadata": {},
   "outputs": [
    {
     "data": {
      "text/plain": [
       "Counter({11: 5300,\n",
       "         20: 1969,\n",
       "         21: 1583,\n",
       "         90: 917,\n",
       "         18: 3324,\n",
       "         4: 2513,\n",
       "         17: 5011,\n",
       "         14: 1979,\n",
       "         60: 1025,\n",
       "         10: 2640,\n",
       "         3: 4379,\n",
       "         15: 1808,\n",
       "         19: 3047,\n",
       "         16: 2816,\n",
       "         80: 1238,\n",
       "         1: 2201,\n",
       "         6: 1609,\n",
       "         2: 3024,\n",
       "         12: 4639,\n",
       "         13: 2093,\n",
       "         5: 4040,\n",
       "         7: 805,\n",
       "         99: 423,\n",
       "         24: 326,\n",
       "         9: 390,\n",
       "         8: 300,\n",
       "         40: 1})"
      ]
     },
     "execution_count": 18,
     "metadata": {},
     "output_type": "execute_result"
    }
   ],
   "source": [
    "Counter(train['region_code'])"
   ]
  },
  {
   "cell_type": "code",
   "execution_count": 19,
   "metadata": {},
   "outputs": [
    {
     "data": {
      "text/plain": [
       "2092"
      ]
     },
     "execution_count": 19,
     "metadata": {},
     "output_type": "execute_result"
    }
   ],
   "source": [
    "len(Counter(train['ward']))"
   ]
  },
  {
   "cell_type": "markdown",
   "metadata": {},
   "source": [
    "### Population"
   ]
  },
  {
   "cell_type": "code",
   "execution_count": 20,
   "metadata": {},
   "outputs": [
    {
     "data": {
      "text/plain": [
       "status_group\n",
       "functional                 187.553303\n",
       "functional needs repair    175.102154\n",
       "non functional             170.016430\n",
       "Name: population, dtype: float64"
      ]
     },
     "execution_count": 20,
     "metadata": {},
     "output_type": "execute_result"
    }
   ],
   "source": [
    "train.groupby(['status_group'])['population'].mean()"
   ]
  },
  {
   "cell_type": "markdown",
   "metadata": {},
   "source": [
    "### Public Meeting"
   ]
  },
  {
   "cell_type": "code",
   "execution_count": 21,
   "metadata": {},
   "outputs": [
    {
     "data": {
      "text/html": [
       "<div>\n",
       "<style scoped>\n",
       "    .dataframe tbody tr th:only-of-type {\n",
       "        vertical-align: middle;\n",
       "    }\n",
       "\n",
       "    .dataframe tbody tr th {\n",
       "        vertical-align: top;\n",
       "    }\n",
       "\n",
       "    .dataframe thead th {\n",
       "        text-align: right;\n",
       "    }\n",
       "</style>\n",
       "<table border=\"1\" class=\"dataframe\">\n",
       "  <thead>\n",
       "    <tr style=\"text-align: right;\">\n",
       "      <th>public_meeting</th>\n",
       "      <th>False</th>\n",
       "      <th>True</th>\n",
       "    </tr>\n",
       "    <tr>\n",
       "      <th>status_group</th>\n",
       "      <th></th>\n",
       "      <th></th>\n",
       "    </tr>\n",
       "  </thead>\n",
       "  <tbody>\n",
       "    <tr>\n",
       "      <th>functional</th>\n",
       "      <td>42.987141</td>\n",
       "      <td>55.689949</td>\n",
       "    </tr>\n",
       "    <tr>\n",
       "      <th>functional needs repair</th>\n",
       "      <td>8.743818</td>\n",
       "      <td>7.290584</td>\n",
       "    </tr>\n",
       "    <tr>\n",
       "      <th>non functional</th>\n",
       "      <td>48.269041</td>\n",
       "      <td>37.019466</td>\n",
       "    </tr>\n",
       "  </tbody>\n",
       "</table>\n",
       "</div>"
      ],
      "text/plain": [
       "public_meeting               False      True \n",
       "status_group                                 \n",
       "functional               42.987141  55.689949\n",
       "functional needs repair   8.743818   7.290584\n",
       "non functional           48.269041  37.019466"
      ]
     },
     "execution_count": 21,
     "metadata": {},
     "output_type": "execute_result"
    }
   ],
   "source": [
    "pd.crosstab(train['status_group'],train['public_meeting']).apply(lambda x: 100*x/x.sum(), axis=0)"
   ]
  },
  {
   "cell_type": "markdown",
   "metadata": {},
   "source": [
    "### Recorded by, scheme management, scheme name"
   ]
  },
  {
   "cell_type": "code",
   "execution_count": 22,
   "metadata": {},
   "outputs": [
    {
     "data": {
      "text/plain": [
       "Counter({'GeoData Consultants Ltd': 59400})"
      ]
     },
     "execution_count": 22,
     "metadata": {},
     "output_type": "execute_result"
    }
   ],
   "source": [
    "Counter(train['recorded_by'])"
   ]
  },
  {
   "cell_type": "code",
   "execution_count": 23,
   "metadata": {},
   "outputs": [
    {
     "data": {
      "text/plain": [
       "Counter({'VWC': 36793,\n",
       "         'Other': 766,\n",
       "         nan: 3877,\n",
       "         'Private operator': 1063,\n",
       "         'WUG': 5206,\n",
       "         'Water Board': 2748,\n",
       "         'WUA': 2883,\n",
       "         'Water authority': 3153,\n",
       "         'Company': 1061,\n",
       "         'Parastatal': 1680,\n",
       "         'Trust': 72,\n",
       "         'SWC': 97,\n",
       "         'None': 1})"
      ]
     },
     "execution_count": 23,
     "metadata": {},
     "output_type": "execute_result"
    }
   ],
   "source": [
    "Counter(train['scheme_management'])"
   ]
  },
  {
   "cell_type": "code",
   "execution_count": 24,
   "metadata": {},
   "outputs": [
    {
     "data": {
      "text/plain": [
       "Counter({'VWC': 36793,\n",
       "         'Other': 4644,\n",
       "         'Private operator': 1063,\n",
       "         'WUG': 5206,\n",
       "         'Water Board': 2748,\n",
       "         'WUA': 2883,\n",
       "         'Water authority': 3153,\n",
       "         'Company': 1061,\n",
       "         'Parastatal': 1680,\n",
       "         'Trust': 72,\n",
       "         'SWC': 97})"
      ]
     },
     "execution_count": 24,
     "metadata": {},
     "output_type": "execute_result"
    }
   ],
   "source": [
    "# set values for  nan and 'none' as 'Other'\n",
    "\n",
    "train['scheme_management'] = train['scheme_management'].apply(lambda x: 'Other' if x=='None' else x)\n",
    "train['scheme_management'].fillna('Other', inplace=True)\n",
    "Counter(train['scheme_management'])"
   ]
  },
  {
   "cell_type": "code",
   "execution_count": 25,
   "metadata": {},
   "outputs": [
    {
     "data": {
      "image/png": "[encoded data removed]",
      "text/plain": [
       "<Figure size 1152x576 with 1 Axes>"
      ]
     },
     "metadata": {},
     "output_type": "display_data"
    }
   ],
   "source": [
    "fig,ax = plt.subplots(figsize=(16,8))\n",
    "ax = sns.countplot(x=\"scheme_management\", hue=\"status_group\",data=train)\n",
    "plt.show()"
   ]
  },
  {
   "cell_type": "code",
   "execution_count": 26,
   "metadata": {},
   "outputs": [
    {
     "data": {
      "text/plain": [
       "Counter({'Parastatal': 444,\n",
       "         'VWC': 9124,\n",
       "         'Water Board': 714,\n",
       "         'Other': 1199,\n",
       "         'SWC': 26,\n",
       "         'WUG': 1290,\n",
       "         'WUA': 668,\n",
       "         'Water authority': 822,\n",
       "         'Company': 280,\n",
       "         'Private operator': 263,\n",
       "         'Trust': 20})"
      ]
     },
     "execution_count": 26,
     "metadata": {},
     "output_type": "execute_result"
    }
   ],
   "source": [
    "# set values for  nan and 'none' as 'Other' for the test set\n",
    "\n",
    "test['scheme_management'] = test['scheme_management'].apply(lambda x: 'Other' if x=='None' else x)\n",
    "test['scheme_management'].fillna('Other', inplace=True)\n",
    "Counter(test['scheme_management'])"
   ]
  },
  {
   "cell_type": "code",
   "execution_count": 27,
   "metadata": {},
   "outputs": [
    {
     "data": {
      "text/plain": [
       "2697"
      ]
     },
     "execution_count": 27,
     "metadata": {},
     "output_type": "execute_result"
    }
   ],
   "source": [
    "len(Counter(train['scheme_name']))"
   ]
  },
  {
   "cell_type": "markdown",
   "metadata": {},
   "source": [
    "### Construction year"
   ]
  },
  {
   "cell_type": "code",
   "execution_count": 28,
   "metadata": {},
   "outputs": [
    {
     "data": {
      "text/plain": [
       "Counter({1999: 979,\n",
       "         2010: 2645,\n",
       "         2009: 2533,\n",
       "         1986: 434,\n",
       "         0: 20709,\n",
       "         2011: 1256,\n",
       "         1987: 302,\n",
       "         1991: 324,\n",
       "         1978: 1037,\n",
       "         1992: 640,\n",
       "         2008: 2613,\n",
       "         1974: 676,\n",
       "         2000: 2091,\n",
       "         2002: 1075,\n",
       "         2004: 1123,\n",
       "         1972: 708,\n",
       "         2003: 1286,\n",
       "         1980: 811,\n",
       "         2007: 1587,\n",
       "         1973: 184,\n",
       "         1985: 945,\n",
       "         1970: 411,\n",
       "         1995: 1014,\n",
       "         2006: 1471,\n",
       "         1962: 30,\n",
       "         2005: 1011,\n",
       "         1997: 644,\n",
       "         2012: 1084,\n",
       "         1996: 811,\n",
       "         1977: 202,\n",
       "         1983: 488,\n",
       "         1984: 779,\n",
       "         1990: 954,\n",
       "         1982: 744,\n",
       "         1976: 414,\n",
       "         1988: 521,\n",
       "         1989: 316,\n",
       "         1975: 437,\n",
       "         1960: 102,\n",
       "         1961: 21,\n",
       "         1998: 966,\n",
       "         1963: 85,\n",
       "         1971: 145,\n",
       "         1994: 738,\n",
       "         1968: 77,\n",
       "         1993: 608,\n",
       "         2001: 540,\n",
       "         1979: 192,\n",
       "         1967: 88,\n",
       "         2013: 176,\n",
       "         1969: 59,\n",
       "         1981: 238,\n",
       "         1964: 40,\n",
       "         1966: 17,\n",
       "         1965: 19})"
      ]
     },
     "execution_count": 28,
     "metadata": {},
     "output_type": "execute_result"
    }
   ],
   "source": [
    "Counter(train['construction_year'])"
   ]
  },
  {
   "cell_type": "code",
   "execution_count": 29,
   "metadata": {},
   "outputs": [],
   "source": [
    "# convert construction year to categorical values\n",
    "\n",
    "def construction_year_converter(column):\n",
    "    if column == 0:\n",
    "        return 'No Data'\n",
    "    elif column < 1990:\n",
    "        return 'old'\n",
    "    elif column < 2000:\n",
    "        return 'middle aged'\n",
    "    else:\n",
    "        return 'fairly new'\n",
    "    \n",
    "train['construction_year_category'] = train['construction_year'].apply(construction_year_converter)\n",
    "test['construction_year_category'] = test['construction_year'].apply(construction_year_converter)"
   ]
  },
  {
   "cell_type": "code",
   "execution_count": 30,
   "metadata": {},
   "outputs": [
    {
     "data": {
      "image/png": "[encoded data removed]",
      "text/plain": [
       "<Figure size 1152x576 with 1 Axes>"
      ]
     },
     "metadata": {},
     "output_type": "display_data"
    }
   ],
   "source": [
    "fig,ax = plt.subplots(figsize=(16,8))\n",
    "ax = sns.countplot(x=\"construction_year_category\", hue=\"status_group\",data=train)\n",
    "plt.show()"
   ]
  },
  {
   "cell_type": "markdown",
   "metadata": {},
   "source": [
    "### extraction_type, extraction_type_group, extraction_type_class"
   ]
  },
  {
   "cell_type": "code",
   "execution_count": 31,
   "metadata": {},
   "outputs": [
    {
     "data": {
      "text/plain": [
       "Counter({'gravity': 26780,\n",
       "         'submersible': 4764,\n",
       "         'swn 80': 3670,\n",
       "         'nira/tanira': 8154,\n",
       "         'india mark ii': 2400,\n",
       "         'other': 6430,\n",
       "         'ksb': 1415,\n",
       "         'mono': 2865,\n",
       "         'windmill': 117,\n",
       "         'afridev': 1770,\n",
       "         'other - rope pump': 451,\n",
       "         'india mark iii': 98,\n",
       "         'other - swn 81': 229,\n",
       "         'other - play pump': 85,\n",
       "         'cemo': 90,\n",
       "         'climax': 32,\n",
       "         'walimi': 48,\n",
       "         'other - mkulima/shinyanga': 2})"
      ]
     },
     "execution_count": 31,
     "metadata": {},
     "output_type": "execute_result"
    }
   ],
   "source": [
    "Counter(train['extraction_type'])"
   ]
  },
  {
   "cell_type": "code",
   "execution_count": 32,
   "metadata": {},
   "outputs": [
    {
     "data": {
      "text/plain": [
       "Counter({'gravity': 26780,\n",
       "         'submersible': 6179,\n",
       "         'swn 80': 3670,\n",
       "         'nira/tanira': 8154,\n",
       "         'india mark ii': 2400,\n",
       "         'other': 6430,\n",
       "         'mono': 2865,\n",
       "         'wind-powered': 117,\n",
       "         'afridev': 1770,\n",
       "         'rope pump': 451,\n",
       "         'india mark iii': 98,\n",
       "         'other handpump': 364,\n",
       "         'other motorpump': 122})"
      ]
     },
     "execution_count": 32,
     "metadata": {},
     "output_type": "execute_result"
    }
   ],
   "source": [
    "Counter(train['extraction_type_group'])"
   ]
  },
  {
   "cell_type": "code",
   "execution_count": 33,
   "metadata": {},
   "outputs": [
    {
     "data": {
      "text/plain": [
       "Counter({'gravity': 26780,\n",
       "         'submersible': 6179,\n",
       "         'handpump': 16456,\n",
       "         'other': 6430,\n",
       "         'motorpump': 2987,\n",
       "         'wind-powered': 117,\n",
       "         'rope pump': 451})"
      ]
     },
     "execution_count": 33,
     "metadata": {},
     "output_type": "execute_result"
    }
   ],
   "source": [
    "Counter(train['extraction_type_class'])"
   ]
  },
  {
   "cell_type": "markdown",
   "metadata": {},
   "source": [
    "#### Observations\n",
    "The three columns all describe the same things. I will use the `extraction_type_class`. The first two goes into too much detail. "
   ]
  },
  {
   "cell_type": "markdown",
   "metadata": {},
   "source": [
    "### management, and management_group"
   ]
  },
  {
   "cell_type": "code",
   "execution_count": 34,
   "metadata": {},
   "outputs": [
    {
     "data": {
      "text/plain": [
       "Counter({'vwc': 40507,\n",
       "         'wug': 6515,\n",
       "         'other': 844,\n",
       "         'private operator': 1971,\n",
       "         'water board': 2933,\n",
       "         'wua': 2535,\n",
       "         'company': 685,\n",
       "         'water authority': 904,\n",
       "         'parastatal': 1768,\n",
       "         'unknown': 561,\n",
       "         'other - school': 99,\n",
       "         'trust': 78})"
      ]
     },
     "execution_count": 34,
     "metadata": {},
     "output_type": "execute_result"
    }
   ],
   "source": [
    "Counter(train['management'])"
   ]
  },
  {
   "cell_type": "code",
   "execution_count": 35,
   "metadata": {},
   "outputs": [
    {
     "data": {
      "text/plain": [
       "Counter({'parastatal': 461,\n",
       "         'user-group': 13048,\n",
       "         'other': 266,\n",
       "         'commercial': 953,\n",
       "         'unknown': 122})"
      ]
     },
     "execution_count": 35,
     "metadata": {},
     "output_type": "execute_result"
    }
   ],
   "source": [
    "Counter(test['management_group'])"
   ]
  },
  {
   "cell_type": "code",
   "execution_count": 36,
   "metadata": {},
   "outputs": [
    {
     "data": {
      "text/plain": [
       "Counter({'user-group': 52490,\n",
       "         'other': 943,\n",
       "         'commercial': 3638,\n",
       "         'parastatal': 1768,\n",
       "         'unknown': 561})"
      ]
     },
     "execution_count": 36,
     "metadata": {},
     "output_type": "execute_result"
    }
   ],
   "source": [
    "Counter(train['management_group'])"
   ]
  },
  {
   "cell_type": "code",
   "execution_count": 37,
   "metadata": {},
   "outputs": [
    {
     "data": {
      "image/png": "[encoded data removed]",
      "text/plain": [
       "<Figure size 1440x576 with 1 Axes>"
      ]
     },
     "metadata": {},
     "output_type": "display_data"
    }
   ],
   "source": [
    "fig,ax = plt.subplots(figsize=(20,8))\n",
    "ax = sns.countplot(x=\"management_group\", hue=\"status_group\",data=train)\n",
    "plt.xlabel('management group', weight='bold',size=12)\n",
    "plt.ylabel('count', weight='bold',size=12)\n",
    "plt.title('pump status by management group', weight='bold', size=14)\n",
    "plt.tight_layout()\n",
    "plt.savefig('images/status_vs_managementgroup.png')\n",
    "plt.show()"
   ]
  },
  {
   "cell_type": "markdown",
   "metadata": {},
   "source": [
    "#### Observations\n",
    "The `management_group` column summarizes the `management` column. I will use the `management_group` column."
   ]
  },
  {
   "cell_type": "markdown",
   "metadata": {},
   "source": [
    "#### waterpoint_type and waterpoint_type_group"
   ]
  },
  {
   "cell_type": "code",
   "execution_count": 38,
   "metadata": {},
   "outputs": [
    {
     "data": {
      "text/plain": [
       "Counter({'communal standpipe': 34625,\n",
       "         'hand pump': 17488,\n",
       "         'other': 6380,\n",
       "         'improved spring': 784,\n",
       "         'cattle trough': 116,\n",
       "         'dam': 7})"
      ]
     },
     "execution_count": 38,
     "metadata": {},
     "output_type": "execute_result"
    }
   ],
   "source": [
    "Counter(train['waterpoint_type_group'])"
   ]
  },
  {
   "cell_type": "code",
   "execution_count": 39,
   "metadata": {},
   "outputs": [
    {
     "data": {
      "image/png": "[encoded data removed]",
      "text/plain": [
       "<Figure size 1152x576 with 1 Axes>"
      ]
     },
     "metadata": {},
     "output_type": "display_data"
    }
   ],
   "source": [
    "fig,ax = plt.subplots(figsize=(16,8))\n",
    "ax = sns.countplot(x=\"waterpoint_type_group\", hue=\"status_group\",data=train)\n",
    "plt.show()"
   ]
  },
  {
   "cell_type": "code",
   "execution_count": 40,
   "metadata": {},
   "outputs": [
    {
     "data": {
      "text/html": [
       "<div>\n",
       "<style scoped>\n",
       "    .dataframe tbody tr th:only-of-type {\n",
       "        vertical-align: middle;\n",
       "    }\n",
       "\n",
       "    .dataframe tbody tr th {\n",
       "        vertical-align: top;\n",
       "    }\n",
       "\n",
       "    .dataframe thead th {\n",
       "        text-align: right;\n",
       "    }\n",
       "</style>\n",
       "<table border=\"1\" class=\"dataframe\">\n",
       "  <thead>\n",
       "    <tr style=\"text-align: right;\">\n",
       "      <th>waterpoint_type_group</th>\n",
       "      <th>cattle trough</th>\n",
       "      <th>communal standpipe</th>\n",
       "      <th>dam</th>\n",
       "      <th>hand pump</th>\n",
       "      <th>improved spring</th>\n",
       "      <th>other</th>\n",
       "    </tr>\n",
       "    <tr>\n",
       "      <th>status_group</th>\n",
       "      <th></th>\n",
       "      <th></th>\n",
       "      <th></th>\n",
       "      <th></th>\n",
       "      <th></th>\n",
       "      <th></th>\n",
       "    </tr>\n",
       "  </thead>\n",
       "  <tbody>\n",
       "    <tr>\n",
       "      <th>functional</th>\n",
       "      <td>72.413793</td>\n",
       "      <td>57.649097</td>\n",
       "      <td>85.714286</td>\n",
       "      <td>61.785224</td>\n",
       "      <td>71.811224</td>\n",
       "      <td>13.166144</td>\n",
       "    </tr>\n",
       "    <tr>\n",
       "      <th>functional needs repair</th>\n",
       "      <td>1.724138</td>\n",
       "      <td>8.398556</td>\n",
       "      <td>0.000000</td>\n",
       "      <td>5.884035</td>\n",
       "      <td>10.841837</td>\n",
       "      <td>4.592476</td>\n",
       "    </tr>\n",
       "    <tr>\n",
       "      <th>non functional</th>\n",
       "      <td>25.862069</td>\n",
       "      <td>33.952347</td>\n",
       "      <td>14.285714</td>\n",
       "      <td>32.330741</td>\n",
       "      <td>17.346939</td>\n",
       "      <td>82.241379</td>\n",
       "    </tr>\n",
       "  </tbody>\n",
       "</table>\n",
       "</div>"
      ],
      "text/plain": [
       "waterpoint_type_group    cattle trough  communal standpipe        dam  \\\n",
       "status_group                                                            \n",
       "functional                   72.413793           57.649097  85.714286   \n",
       "functional needs repair       1.724138            8.398556   0.000000   \n",
       "non functional               25.862069           33.952347  14.285714   \n",
       "\n",
       "waterpoint_type_group    hand pump  improved spring      other  \n",
       "status_group                                                    \n",
       "functional               61.785224        71.811224  13.166144  \n",
       "functional needs repair   5.884035        10.841837   4.592476  \n",
       "non functional           32.330741        17.346939  82.241379  "
      ]
     },
     "execution_count": 40,
     "metadata": {},
     "output_type": "execute_result"
    }
   ],
   "source": [
    "# create a crosstabe between status group and waterpoint type group\n",
    "# apply a function on each column to get the percentages of each status group\n",
    "pivot_1 = pd.crosstab(train['status_group'],train['waterpoint_type_group']).apply(lambda x: 100*x/x.sum(), axis=0)\n",
    "pivot_1"
   ]
  },
  {
   "cell_type": "code",
   "execution_count": 41,
   "metadata": {},
   "outputs": [
    {
     "data": {
      "text/html": [
       "<div>\n",
       "<style scoped>\n",
       "    .dataframe tbody tr th:only-of-type {\n",
       "        vertical-align: middle;\n",
       "    }\n",
       "\n",
       "    .dataframe tbody tr th {\n",
       "        vertical-align: top;\n",
       "    }\n",
       "\n",
       "    .dataframe thead th {\n",
       "        text-align: right;\n",
       "    }\n",
       "</style>\n",
       "<table border=\"1\" class=\"dataframe\">\n",
       "  <thead>\n",
       "    <tr style=\"text-align: right;\">\n",
       "      <th>waterpoint_type</th>\n",
       "      <th>cattle trough</th>\n",
       "      <th>communal standpipe</th>\n",
       "      <th>communal standpipe multiple</th>\n",
       "      <th>dam</th>\n",
       "      <th>hand pump</th>\n",
       "      <th>improved spring</th>\n",
       "      <th>other</th>\n",
       "    </tr>\n",
       "    <tr>\n",
       "      <th>status_group</th>\n",
       "      <th></th>\n",
       "      <th></th>\n",
       "      <th></th>\n",
       "      <th></th>\n",
       "      <th></th>\n",
       "      <th></th>\n",
       "      <th></th>\n",
       "    </tr>\n",
       "  </thead>\n",
       "  <tbody>\n",
       "    <tr>\n",
       "      <th>functional</th>\n",
       "      <td>72.413793</td>\n",
       "      <td>62.148517</td>\n",
       "      <td>36.621334</td>\n",
       "      <td>85.714286</td>\n",
       "      <td>61.785224</td>\n",
       "      <td>71.811224</td>\n",
       "      <td>13.166144</td>\n",
       "    </tr>\n",
       "    <tr>\n",
       "      <th>functional needs repair</th>\n",
       "      <td>1.724138</td>\n",
       "      <td>7.923708</td>\n",
       "      <td>10.617729</td>\n",
       "      <td>0.000000</td>\n",
       "      <td>5.884035</td>\n",
       "      <td>10.841837</td>\n",
       "      <td>4.592476</td>\n",
       "    </tr>\n",
       "    <tr>\n",
       "      <th>non functional</th>\n",
       "      <td>25.862069</td>\n",
       "      <td>29.927775</td>\n",
       "      <td>52.760937</td>\n",
       "      <td>14.285714</td>\n",
       "      <td>32.330741</td>\n",
       "      <td>17.346939</td>\n",
       "      <td>82.241379</td>\n",
       "    </tr>\n",
       "  </tbody>\n",
       "</table>\n",
       "</div>"
      ],
      "text/plain": [
       "waterpoint_type          cattle trough  communal standpipe  \\\n",
       "status_group                                                 \n",
       "functional                   72.413793           62.148517   \n",
       "functional needs repair       1.724138            7.923708   \n",
       "non functional               25.862069           29.927775   \n",
       "\n",
       "waterpoint_type          communal standpipe multiple        dam  hand pump  \\\n",
       "status_group                                                                 \n",
       "functional                                 36.621334  85.714286  61.785224   \n",
       "functional needs repair                    10.617729   0.000000   5.884035   \n",
       "non functional                             52.760937  14.285714  32.330741   \n",
       "\n",
       "waterpoint_type          improved spring      other  \n",
       "status_group                                         \n",
       "functional                     71.811224  13.166144  \n",
       "functional needs repair        10.841837   4.592476  \n",
       "non functional                 17.346939  82.241379  "
      ]
     },
     "execution_count": 41,
     "metadata": {},
     "output_type": "execute_result"
    }
   ],
   "source": [
    "# create a crosstabe between status group and waterpoint type\n",
    "# apply a function on each column to get the percentages of each status group\n",
    "pivot_2 = pd.crosstab(train['status_group'],train['waterpoint_type']).apply(lambda x: 100*x/x.sum(), axis=0)\n",
    "pivot_2"
   ]
  },
  {
   "cell_type": "markdown",
   "metadata": {},
   "source": [
    "#### Observation\n",
    "The `waterpoint_type` and `waterpoint_type_group` colums are identical. The only diffrence is that the former contains one additional label the `communal standpipe multiple`. In the ML part I can drop the `waterpoint_type_group` column."
   ]
  },
  {
   "cell_type": "markdown",
   "metadata": {},
   "source": [
    "#### source, source_type, source_class"
   ]
  },
  {
   "cell_type": "code",
   "execution_count": 42,
   "metadata": {},
   "outputs": [
    {
     "data": {
      "text/plain": [
       "Counter({'spring': 17021,\n",
       "         'rainwater harvesting': 2295,\n",
       "         'dam': 656,\n",
       "         'machine dbh': 11075,\n",
       "         'other': 212,\n",
       "         'shallow well': 16824,\n",
       "         'river': 9612,\n",
       "         'hand dtw': 874,\n",
       "         'lake': 765,\n",
       "         'unknown': 66})"
      ]
     },
     "execution_count": 42,
     "metadata": {},
     "output_type": "execute_result"
    }
   ],
   "source": [
    "Counter(train['source'])"
   ]
  },
  {
   "cell_type": "code",
   "execution_count": 43,
   "metadata": {},
   "outputs": [
    {
     "data": {
      "text/plain": [
       "Counter({'spring': 17021,\n",
       "         'rainwater harvesting': 2295,\n",
       "         'dam': 656,\n",
       "         'borehole': 11949,\n",
       "         'other': 278,\n",
       "         'shallow well': 16824,\n",
       "         'river/lake': 10377})"
      ]
     },
     "execution_count": 43,
     "metadata": {},
     "output_type": "execute_result"
    }
   ],
   "source": [
    "Counter(train['source_type'])"
   ]
  },
  {
   "cell_type": "code",
   "execution_count": 44,
   "metadata": {},
   "outputs": [
    {
     "data": {
      "text/plain": [
       "Counter({'groundwater': 45794, 'surface': 13328, 'unknown': 278})"
      ]
     },
     "execution_count": 44,
     "metadata": {},
     "output_type": "execute_result"
    }
   ],
   "source": [
    "Counter(train['source_class'])"
   ]
  },
  {
   "cell_type": "code",
   "execution_count": 45,
   "metadata": {},
   "outputs": [
    {
     "data": {
      "text/html": [
       "<div>\n",
       "<style scoped>\n",
       "    .dataframe tbody tr th:only-of-type {\n",
       "        vertical-align: middle;\n",
       "    }\n",
       "\n",
       "    .dataframe tbody tr th {\n",
       "        vertical-align: top;\n",
       "    }\n",
       "\n",
       "    .dataframe thead th {\n",
       "        text-align: right;\n",
       "    }\n",
       "</style>\n",
       "<table border=\"1\" class=\"dataframe\">\n",
       "  <thead>\n",
       "    <tr style=\"text-align: right;\">\n",
       "      <th>source</th>\n",
       "      <th>dam</th>\n",
       "      <th>hand dtw</th>\n",
       "      <th>lake</th>\n",
       "      <th>machine dbh</th>\n",
       "      <th>other</th>\n",
       "      <th>rainwater harvesting</th>\n",
       "      <th>river</th>\n",
       "      <th>shallow well</th>\n",
       "      <th>spring</th>\n",
       "      <th>unknown</th>\n",
       "    </tr>\n",
       "    <tr>\n",
       "      <th>status_group</th>\n",
       "      <th></th>\n",
       "      <th></th>\n",
       "      <th></th>\n",
       "      <th></th>\n",
       "      <th></th>\n",
       "      <th></th>\n",
       "      <th></th>\n",
       "      <th></th>\n",
       "      <th></th>\n",
       "      <th></th>\n",
       "    </tr>\n",
       "  </thead>\n",
       "  <tbody>\n",
       "    <tr>\n",
       "      <th>functional</th>\n",
       "      <td>38.567073</td>\n",
       "      <td>56.864989</td>\n",
       "      <td>21.176471</td>\n",
       "      <td>48.957111</td>\n",
       "      <td>59.433962</td>\n",
       "      <td>60.392157</td>\n",
       "      <td>56.856013</td>\n",
       "      <td>49.476938</td>\n",
       "      <td>62.229011</td>\n",
       "      <td>48.484848</td>\n",
       "    </tr>\n",
       "    <tr>\n",
       "      <th>functional needs repair</th>\n",
       "      <td>3.658537</td>\n",
       "      <td>1.945080</td>\n",
       "      <td>1.568627</td>\n",
       "      <td>4.433409</td>\n",
       "      <td>0.471698</td>\n",
       "      <td>13.681917</td>\n",
       "      <td>12.702871</td>\n",
       "      <td>5.688302</td>\n",
       "      <td>7.496622</td>\n",
       "      <td>6.060606</td>\n",
       "    </tr>\n",
       "    <tr>\n",
       "      <th>non functional</th>\n",
       "      <td>57.774390</td>\n",
       "      <td>41.189931</td>\n",
       "      <td>77.254902</td>\n",
       "      <td>46.609481</td>\n",
       "      <td>40.094340</td>\n",
       "      <td>25.925926</td>\n",
       "      <td>30.441115</td>\n",
       "      <td>44.834760</td>\n",
       "      <td>30.274367</td>\n",
       "      <td>45.454545</td>\n",
       "    </tr>\n",
       "  </tbody>\n",
       "</table>\n",
       "</div>"
      ],
      "text/plain": [
       "source                         dam   hand dtw       lake  machine dbh  \\\n",
       "status_group                                                            \n",
       "functional               38.567073  56.864989  21.176471    48.957111   \n",
       "functional needs repair   3.658537   1.945080   1.568627     4.433409   \n",
       "non functional           57.774390  41.189931  77.254902    46.609481   \n",
       "\n",
       "source                       other  rainwater harvesting      river  \\\n",
       "status_group                                                          \n",
       "functional               59.433962             60.392157  56.856013   \n",
       "functional needs repair   0.471698             13.681917  12.702871   \n",
       "non functional           40.094340             25.925926  30.441115   \n",
       "\n",
       "source                   shallow well     spring    unknown  \n",
       "status_group                                                 \n",
       "functional                  49.476938  62.229011  48.484848  \n",
       "functional needs repair      5.688302   7.496622   6.060606  \n",
       "non functional              44.834760  30.274367  45.454545  "
      ]
     },
     "execution_count": 45,
     "metadata": {},
     "output_type": "execute_result"
    }
   ],
   "source": [
    "# create a crosstabe between status group and source\n",
    "# apply a function on each column to get the percentages of each status group\n",
    "pivot_3 = pd.crosstab(train['status_group'],train['source']).apply(lambda x: 100*x/x.sum(), axis=0)\n",
    "pivot_3"
   ]
  },
  {
   "cell_type": "markdown",
   "metadata": {},
   "source": [
    "#### Observations\n",
    "The `source` and the `source_type` columns looks almost identical. Meanwhile, the `source_class` columns summarizes the `source` and `source_type` columns. \n",
    "\n",
    "Examples: \n",
    "1. In the `source` column the values for `machine dbh` + `hand dtw` equals the value for `borehole` in the `source_type` column.\n",
    "2. In the `source` column the values for `other` + `unknown` equals the value for `other` in the `source_type` column.\n",
    "3. Adding `spring`, `borehole`, and `shallow well` in the `source_type` column totals the `groundwater` value in the `source_class` column.\n",
    "\n",
    "I'll use source type. It's simpler."
   ]
  },
  {
   "cell_type": "markdown",
   "metadata": {},
   "source": [
    "#### water_quality , and quality_group "
   ]
  },
  {
   "cell_type": "code",
   "execution_count": 46,
   "metadata": {},
   "outputs": [
    {
     "data": {
      "text/plain": [
       "Counter({'soft': 50818,\n",
       "         'salty': 4856,\n",
       "         'milky': 804,\n",
       "         'unknown': 1876,\n",
       "         'fluoride': 200,\n",
       "         'coloured': 490,\n",
       "         'salty abandoned': 339,\n",
       "         'fluoride abandoned': 17})"
      ]
     },
     "execution_count": 46,
     "metadata": {},
     "output_type": "execute_result"
    }
   ],
   "source": [
    "Counter(train['water_quality'])"
   ]
  },
  {
   "cell_type": "code",
   "execution_count": 47,
   "metadata": {},
   "outputs": [
    {
     "data": {
      "text/plain": [
       "Counter({'good': 50818,\n",
       "         'salty': 5195,\n",
       "         'milky': 804,\n",
       "         'unknown': 1876,\n",
       "         'fluoride': 217,\n",
       "         'colored': 490})"
      ]
     },
     "execution_count": 47,
     "metadata": {},
     "output_type": "execute_result"
    }
   ],
   "source": [
    "Counter(train['quality_group'])"
   ]
  },
  {
   "cell_type": "code",
   "execution_count": 48,
   "metadata": {},
   "outputs": [
    {
     "data": {
      "text/html": [
       "<div>\n",
       "<style scoped>\n",
       "    .dataframe tbody tr th:only-of-type {\n",
       "        vertical-align: middle;\n",
       "    }\n",
       "\n",
       "    .dataframe tbody tr th {\n",
       "        vertical-align: top;\n",
       "    }\n",
       "\n",
       "    .dataframe thead th {\n",
       "        text-align: right;\n",
       "    }\n",
       "</style>\n",
       "<table border=\"1\" class=\"dataframe\">\n",
       "  <thead>\n",
       "    <tr style=\"text-align: right;\">\n",
       "      <th>water_quality</th>\n",
       "      <th>coloured</th>\n",
       "      <th>fluoride</th>\n",
       "      <th>fluoride abandoned</th>\n",
       "      <th>milky</th>\n",
       "      <th>salty</th>\n",
       "      <th>salty abandoned</th>\n",
       "      <th>soft</th>\n",
       "      <th>unknown</th>\n",
       "    </tr>\n",
       "    <tr>\n",
       "      <th>status_group</th>\n",
       "      <th></th>\n",
       "      <th></th>\n",
       "      <th></th>\n",
       "      <th></th>\n",
       "      <th></th>\n",
       "      <th></th>\n",
       "      <th></th>\n",
       "      <th></th>\n",
       "    </tr>\n",
       "  </thead>\n",
       "  <tbody>\n",
       "    <tr>\n",
       "      <th>functional</th>\n",
       "      <td>50.204082</td>\n",
       "      <td>75.5</td>\n",
       "      <td>35.294118</td>\n",
       "      <td>54.477612</td>\n",
       "      <td>45.716639</td>\n",
       "      <td>51.327434</td>\n",
       "      <td>56.594120</td>\n",
       "      <td>14.072495</td>\n",
       "    </tr>\n",
       "    <tr>\n",
       "      <th>functional needs repair</th>\n",
       "      <td>11.020408</td>\n",
       "      <td>6.5</td>\n",
       "      <td>0.000000</td>\n",
       "      <td>1.741294</td>\n",
       "      <td>4.633443</td>\n",
       "      <td>21.238938</td>\n",
       "      <td>7.682317</td>\n",
       "      <td>1.865672</td>\n",
       "    </tr>\n",
       "    <tr>\n",
       "      <th>non functional</th>\n",
       "      <td>38.775510</td>\n",
       "      <td>18.0</td>\n",
       "      <td>64.705882</td>\n",
       "      <td>43.781095</td>\n",
       "      <td>49.649918</td>\n",
       "      <td>27.433628</td>\n",
       "      <td>35.723563</td>\n",
       "      <td>84.061834</td>\n",
       "    </tr>\n",
       "  </tbody>\n",
       "</table>\n",
       "</div>"
      ],
      "text/plain": [
       "water_quality             coloured  fluoride  fluoride abandoned      milky  \\\n",
       "status_group                                                                  \n",
       "functional               50.204082      75.5           35.294118  54.477612   \n",
       "functional needs repair  11.020408       6.5            0.000000   1.741294   \n",
       "non functional           38.775510      18.0           64.705882  43.781095   \n",
       "\n",
       "water_quality                salty  salty abandoned       soft    unknown  \n",
       "status_group                                                               \n",
       "functional               45.716639        51.327434  56.594120  14.072495  \n",
       "functional needs repair   4.633443        21.238938   7.682317   1.865672  \n",
       "non functional           49.649918        27.433628  35.723563  84.061834  "
      ]
     },
     "execution_count": 48,
     "metadata": {},
     "output_type": "execute_result"
    }
   ],
   "source": [
    "# create a crosstabe between status group and water quality\n",
    "# apply a function on each column to get the percentages of each status group\n",
    "pivot_4 = pd.crosstab(train['status_group'],train['water_quality']).apply(lambda x: 100*x/x.sum(), axis=0)\n",
    "pivot_4"
   ]
  },
  {
   "cell_type": "markdown",
   "metadata": {},
   "source": [
    "#### Observations\n",
    "The `quality_group` group summarizes the `water_quality` column. I can drop the `water_quality` column."
   ]
  },
  {
   "cell_type": "markdown",
   "metadata": {},
   "source": [
    "####  quantity, and quantity_group "
   ]
  },
  {
   "cell_type": "code",
   "execution_count": 49,
   "metadata": {},
   "outputs": [
    {
     "data": {
      "text/plain": [
       "Counter({'enough': 33186,\n",
       "         'insufficient': 15129,\n",
       "         'dry': 6246,\n",
       "         'seasonal': 4050,\n",
       "         'unknown': 789})"
      ]
     },
     "execution_count": 49,
     "metadata": {},
     "output_type": "execute_result"
    }
   ],
   "source": [
    "Counter(train['quantity'])"
   ]
  },
  {
   "cell_type": "code",
   "execution_count": 50,
   "metadata": {},
   "outputs": [
    {
     "data": {
      "text/plain": [
       "Counter({'enough': 33186,\n",
       "         'insufficient': 15129,\n",
       "         'dry': 6246,\n",
       "         'seasonal': 4050,\n",
       "         'unknown': 789})"
      ]
     },
     "execution_count": 50,
     "metadata": {},
     "output_type": "execute_result"
    }
   ],
   "source": [
    "Counter(train['quantity_group'])"
   ]
  },
  {
   "cell_type": "markdown",
   "metadata": {},
   "source": [
    "#### Observations \n",
    "The `quantity` and `quantity_group` columns are identical: drop one."
   ]
  },
  {
   "cell_type": "markdown",
   "metadata": {},
   "source": [
    "#### payment, and payment_type"
   ]
  },
  {
   "cell_type": "code",
   "execution_count": 51,
   "metadata": {},
   "outputs": [
    {
     "data": {
      "text/plain": [
       "Counter({'pay annually': 3642,\n",
       "         'never pay': 25348,\n",
       "         'pay per bucket': 8985,\n",
       "         'unknown': 8157,\n",
       "         'pay when scheme fails': 3914,\n",
       "         'other': 1054,\n",
       "         'pay monthly': 8300})"
      ]
     },
     "execution_count": 51,
     "metadata": {},
     "output_type": "execute_result"
    }
   ],
   "source": [
    "Counter(train['payment'])"
   ]
  },
  {
   "cell_type": "code",
   "execution_count": 52,
   "metadata": {},
   "outputs": [
    {
     "data": {
      "text/plain": [
       "Counter({'annually': 3642,\n",
       "         'never pay': 25348,\n",
       "         'per bucket': 8985,\n",
       "         'unknown': 8157,\n",
       "         'on failure': 3914,\n",
       "         'other': 1054,\n",
       "         'monthly': 8300})"
      ]
     },
     "execution_count": 52,
     "metadata": {},
     "output_type": "execute_result"
    }
   ],
   "source": [
    "Counter(train['payment_type'])"
   ]
  },
  {
   "cell_type": "markdown",
   "metadata": {},
   "source": [
    "#### Observations \n",
    "The `payment` and `payment_type` columns are identical: drop one."
   ]
  },
  {
   "cell_type": "code",
   "execution_count": 56,
   "metadata": {},
   "outputs": [
    {
     "data": {
      "text/html": [
       "<div>\n",
       "<style scoped>\n",
       "    .dataframe tbody tr th:only-of-type {\n",
       "        vertical-align: middle;\n",
       "    }\n",
       "\n",
       "    .dataframe tbody tr th {\n",
       "        vertical-align: top;\n",
       "    }\n",
       "\n",
       "    .dataframe thead th {\n",
       "        text-align: right;\n",
       "    }\n",
       "</style>\n",
       "<table border=\"1\" class=\"dataframe\">\n",
       "  <thead>\n",
       "    <tr style=\"text-align: right;\">\n",
       "      <th></th>\n",
       "      <th>amount_tsh</th>\n",
       "      <th>date_recorded</th>\n",
       "      <th>funder</th>\n",
       "      <th>gps_height</th>\n",
       "      <th>installer</th>\n",
       "      <th>longitude</th>\n",
       "      <th>latitude</th>\n",
       "      <th>wpt_name</th>\n",
       "      <th>num_private</th>\n",
       "      <th>basin</th>\n",
       "      <th>...</th>\n",
       "      <th>quality_group</th>\n",
       "      <th>quantity</th>\n",
       "      <th>quantity_group</th>\n",
       "      <th>source</th>\n",
       "      <th>source_type</th>\n",
       "      <th>source_class</th>\n",
       "      <th>waterpoint_type</th>\n",
       "      <th>waterpoint_type_group</th>\n",
       "      <th>status_group</th>\n",
       "      <th>construction_year_category</th>\n",
       "    </tr>\n",
       "    <tr>\n",
       "      <th>id</th>\n",
       "      <th></th>\n",
       "      <th></th>\n",
       "      <th></th>\n",
       "      <th></th>\n",
       "      <th></th>\n",
       "      <th></th>\n",
       "      <th></th>\n",
       "      <th></th>\n",
       "      <th></th>\n",
       "      <th></th>\n",
       "      <th></th>\n",
       "      <th></th>\n",
       "      <th></th>\n",
       "      <th></th>\n",
       "      <th></th>\n",
       "      <th></th>\n",
       "      <th></th>\n",
       "      <th></th>\n",
       "      <th></th>\n",
       "      <th></th>\n",
       "      <th></th>\n",
       "    </tr>\n",
       "  </thead>\n",
       "  <tbody>\n",
       "    <tr>\n",
       "      <th>69572</th>\n",
       "      <td>6000.0</td>\n",
       "      <td>2011-03-14</td>\n",
       "      <td>Roman</td>\n",
       "      <td>1390</td>\n",
       "      <td>Roman</td>\n",
       "      <td>34.938093</td>\n",
       "      <td>-9.856322</td>\n",
       "      <td>none</td>\n",
       "      <td>0</td>\n",
       "      <td>Lake Nyasa</td>\n",
       "      <td>...</td>\n",
       "      <td>good</td>\n",
       "      <td>enough</td>\n",
       "      <td>enough</td>\n",
       "      <td>spring</td>\n",
       "      <td>spring</td>\n",
       "      <td>groundwater</td>\n",
       "      <td>communal standpipe</td>\n",
       "      <td>communal standpipe</td>\n",
       "      <td>functional</td>\n",
       "      <td>middle aged</td>\n",
       "    </tr>\n",
       "    <tr>\n",
       "      <th>8776</th>\n",
       "      <td>0.0</td>\n",
       "      <td>2013-03-06</td>\n",
       "      <td>Grumeti</td>\n",
       "      <td>1399</td>\n",
       "      <td>GRUMETI</td>\n",
       "      <td>34.698766</td>\n",
       "      <td>-2.147466</td>\n",
       "      <td>Zahanati</td>\n",
       "      <td>0</td>\n",
       "      <td>Lake Victoria</td>\n",
       "      <td>...</td>\n",
       "      <td>good</td>\n",
       "      <td>insufficient</td>\n",
       "      <td>insufficient</td>\n",
       "      <td>rainwater harvesting</td>\n",
       "      <td>rainwater harvesting</td>\n",
       "      <td>surface</td>\n",
       "      <td>communal standpipe</td>\n",
       "      <td>communal standpipe</td>\n",
       "      <td>functional</td>\n",
       "      <td>fairly new</td>\n",
       "    </tr>\n",
       "    <tr>\n",
       "      <th>34310</th>\n",
       "      <td>25.0</td>\n",
       "      <td>2013-02-25</td>\n",
       "      <td>Lottery Club</td>\n",
       "      <td>686</td>\n",
       "      <td>World vision</td>\n",
       "      <td>37.460664</td>\n",
       "      <td>-3.821329</td>\n",
       "      <td>Kwa Mahundi</td>\n",
       "      <td>0</td>\n",
       "      <td>Pangani</td>\n",
       "      <td>...</td>\n",
       "      <td>good</td>\n",
       "      <td>enough</td>\n",
       "      <td>enough</td>\n",
       "      <td>dam</td>\n",
       "      <td>dam</td>\n",
       "      <td>surface</td>\n",
       "      <td>communal standpipe multiple</td>\n",
       "      <td>communal standpipe</td>\n",
       "      <td>functional</td>\n",
       "      <td>fairly new</td>\n",
       "    </tr>\n",
       "    <tr>\n",
       "      <th>67743</th>\n",
       "      <td>0.0</td>\n",
       "      <td>2013-01-28</td>\n",
       "      <td>Unicef</td>\n",
       "      <td>263</td>\n",
       "      <td>UNICEF</td>\n",
       "      <td>38.486161</td>\n",
       "      <td>-11.155298</td>\n",
       "      <td>Zahanati Ya Nanyumbu</td>\n",
       "      <td>0</td>\n",
       "      <td>Ruvuma / Southern Coast</td>\n",
       "      <td>...</td>\n",
       "      <td>good</td>\n",
       "      <td>dry</td>\n",
       "      <td>dry</td>\n",
       "      <td>machine dbh</td>\n",
       "      <td>borehole</td>\n",
       "      <td>groundwater</td>\n",
       "      <td>communal standpipe multiple</td>\n",
       "      <td>communal standpipe</td>\n",
       "      <td>non functional</td>\n",
       "      <td>old</td>\n",
       "    </tr>\n",
       "    <tr>\n",
       "      <th>19728</th>\n",
       "      <td>0.0</td>\n",
       "      <td>2011-07-13</td>\n",
       "      <td>Action In A</td>\n",
       "      <td>0</td>\n",
       "      <td>Artisan</td>\n",
       "      <td>31.130847</td>\n",
       "      <td>-1.825359</td>\n",
       "      <td>Shuleni</td>\n",
       "      <td>0</td>\n",
       "      <td>Lake Victoria</td>\n",
       "      <td>...</td>\n",
       "      <td>good</td>\n",
       "      <td>seasonal</td>\n",
       "      <td>seasonal</td>\n",
       "      <td>rainwater harvesting</td>\n",
       "      <td>rainwater harvesting</td>\n",
       "      <td>surface</td>\n",
       "      <td>communal standpipe</td>\n",
       "      <td>communal standpipe</td>\n",
       "      <td>functional</td>\n",
       "      <td>No Data</td>\n",
       "    </tr>\n",
       "  </tbody>\n",
       "</table>\n",
       "<p>5 rows × 41 columns</p>\n",
       "</div>"
      ],
      "text/plain": [
       "       amount_tsh date_recorded        funder  gps_height     installer  \\\n",
       "id                                                                        \n",
       "69572      6000.0    2011-03-14         Roman        1390         Roman   \n",
       "8776          0.0    2013-03-06       Grumeti        1399       GRUMETI   \n",
       "34310        25.0    2013-02-25  Lottery Club         686  World vision   \n",
       "67743         0.0    2013-01-28        Unicef         263        UNICEF   \n",
       "19728         0.0    2011-07-13   Action In A           0       Artisan   \n",
       "\n",
       "       longitude   latitude              wpt_name  num_private  \\\n",
       "id                                                               \n",
       "69572  34.938093  -9.856322                  none            0   \n",
       "8776   34.698766  -2.147466              Zahanati            0   \n",
       "34310  37.460664  -3.821329           Kwa Mahundi            0   \n",
       "67743  38.486161 -11.155298  Zahanati Ya Nanyumbu            0   \n",
       "19728  31.130847  -1.825359               Shuleni            0   \n",
       "\n",
       "                         basin            ...             quality_group  \\\n",
       "id                                        ...                             \n",
       "69572               Lake Nyasa            ...                      good   \n",
       "8776             Lake Victoria            ...                      good   \n",
       "34310                  Pangani            ...                      good   \n",
       "67743  Ruvuma / Southern Coast            ...                      good   \n",
       "19728            Lake Victoria            ...                      good   \n",
       "\n",
       "           quantity  quantity_group                source  \\\n",
       "id                                                          \n",
       "69572        enough          enough                spring   \n",
       "8776   insufficient    insufficient  rainwater harvesting   \n",
       "34310        enough          enough                   dam   \n",
       "67743           dry             dry           machine dbh   \n",
       "19728      seasonal        seasonal  rainwater harvesting   \n",
       "\n",
       "                source_type source_class              waterpoint_type  \\\n",
       "id                                                                      \n",
       "69572                spring  groundwater           communal standpipe   \n",
       "8776   rainwater harvesting      surface           communal standpipe   \n",
       "34310                   dam      surface  communal standpipe multiple   \n",
       "67743              borehole  groundwater  communal standpipe multiple   \n",
       "19728  rainwater harvesting      surface           communal standpipe   \n",
       "\n",
       "      waterpoint_type_group    status_group construction_year_category  \n",
       "id                                                                      \n",
       "69572    communal standpipe      functional                middle aged  \n",
       "8776     communal standpipe      functional                 fairly new  \n",
       "34310    communal standpipe      functional                 fairly new  \n",
       "67743    communal standpipe  non functional                        old  \n",
       "19728    communal standpipe      functional                    No Data  \n",
       "\n",
       "[5 rows x 41 columns]"
      ]
     },
     "execution_count": 56,
     "metadata": {},
     "output_type": "execute_result"
    }
   ],
   "source": [
    "train.head()"
   ]
  },
  {
   "cell_type": "code",
   "execution_count": 57,
   "metadata": {},
   "outputs": [
    {
     "data": {
      "text/html": [
       "<div>\n",
       "<style scoped>\n",
       "    .dataframe tbody tr th:only-of-type {\n",
       "        vertical-align: middle;\n",
       "    }\n",
       "\n",
       "    .dataframe tbody tr th {\n",
       "        vertical-align: top;\n",
       "    }\n",
       "\n",
       "    .dataframe thead th {\n",
       "        text-align: right;\n",
       "    }\n",
       "</style>\n",
       "<table border=\"1\" class=\"dataframe\">\n",
       "  <thead>\n",
       "    <tr style=\"text-align: right;\">\n",
       "      <th></th>\n",
       "      <th>amount_tsh</th>\n",
       "      <th>date_recorded</th>\n",
       "      <th>funder</th>\n",
       "      <th>gps_height</th>\n",
       "      <th>installer</th>\n",
       "      <th>longitude</th>\n",
       "      <th>latitude</th>\n",
       "      <th>wpt_name</th>\n",
       "      <th>num_private</th>\n",
       "      <th>basin</th>\n",
       "      <th>...</th>\n",
       "      <th>water_quality</th>\n",
       "      <th>quality_group</th>\n",
       "      <th>quantity</th>\n",
       "      <th>quantity_group</th>\n",
       "      <th>source</th>\n",
       "      <th>source_type</th>\n",
       "      <th>source_class</th>\n",
       "      <th>waterpoint_type</th>\n",
       "      <th>waterpoint_type_group</th>\n",
       "      <th>construction_year_category</th>\n",
       "    </tr>\n",
       "    <tr>\n",
       "      <th>id</th>\n",
       "      <th></th>\n",
       "      <th></th>\n",
       "      <th></th>\n",
       "      <th></th>\n",
       "      <th></th>\n",
       "      <th></th>\n",
       "      <th></th>\n",
       "      <th></th>\n",
       "      <th></th>\n",
       "      <th></th>\n",
       "      <th></th>\n",
       "      <th></th>\n",
       "      <th></th>\n",
       "      <th></th>\n",
       "      <th></th>\n",
       "      <th></th>\n",
       "      <th></th>\n",
       "      <th></th>\n",
       "      <th></th>\n",
       "      <th></th>\n",
       "      <th></th>\n",
       "    </tr>\n",
       "  </thead>\n",
       "  <tbody>\n",
       "    <tr>\n",
       "      <th>50785</th>\n",
       "      <td>0.0</td>\n",
       "      <td>2013-02-04</td>\n",
       "      <td>Dmdd</td>\n",
       "      <td>1996</td>\n",
       "      <td>DMDD</td>\n",
       "      <td>35.290799</td>\n",
       "      <td>-4.059696</td>\n",
       "      <td>Dinamu Secondary School</td>\n",
       "      <td>0</td>\n",
       "      <td>Internal</td>\n",
       "      <td>...</td>\n",
       "      <td>soft</td>\n",
       "      <td>good</td>\n",
       "      <td>seasonal</td>\n",
       "      <td>seasonal</td>\n",
       "      <td>rainwater harvesting</td>\n",
       "      <td>rainwater harvesting</td>\n",
       "      <td>surface</td>\n",
       "      <td>other</td>\n",
       "      <td>other</td>\n",
       "      <td>fairly new</td>\n",
       "    </tr>\n",
       "    <tr>\n",
       "      <th>51630</th>\n",
       "      <td>0.0</td>\n",
       "      <td>2013-02-04</td>\n",
       "      <td>Government Of Tanzania</td>\n",
       "      <td>1569</td>\n",
       "      <td>DWE</td>\n",
       "      <td>36.656709</td>\n",
       "      <td>-3.309214</td>\n",
       "      <td>Kimnyak</td>\n",
       "      <td>0</td>\n",
       "      <td>Pangani</td>\n",
       "      <td>...</td>\n",
       "      <td>soft</td>\n",
       "      <td>good</td>\n",
       "      <td>insufficient</td>\n",
       "      <td>insufficient</td>\n",
       "      <td>spring</td>\n",
       "      <td>spring</td>\n",
       "      <td>groundwater</td>\n",
       "      <td>communal standpipe</td>\n",
       "      <td>communal standpipe</td>\n",
       "      <td>fairly new</td>\n",
       "    </tr>\n",
       "    <tr>\n",
       "      <th>17168</th>\n",
       "      <td>0.0</td>\n",
       "      <td>2013-02-01</td>\n",
       "      <td>NaN</td>\n",
       "      <td>1567</td>\n",
       "      <td>NaN</td>\n",
       "      <td>34.767863</td>\n",
       "      <td>-5.004344</td>\n",
       "      <td>Puma Secondary</td>\n",
       "      <td>0</td>\n",
       "      <td>Internal</td>\n",
       "      <td>...</td>\n",
       "      <td>soft</td>\n",
       "      <td>good</td>\n",
       "      <td>insufficient</td>\n",
       "      <td>insufficient</td>\n",
       "      <td>rainwater harvesting</td>\n",
       "      <td>rainwater harvesting</td>\n",
       "      <td>surface</td>\n",
       "      <td>other</td>\n",
       "      <td>other</td>\n",
       "      <td>fairly new</td>\n",
       "    </tr>\n",
       "    <tr>\n",
       "      <th>45559</th>\n",
       "      <td>0.0</td>\n",
       "      <td>2013-01-22</td>\n",
       "      <td>Finn Water</td>\n",
       "      <td>267</td>\n",
       "      <td>FINN WATER</td>\n",
       "      <td>38.058046</td>\n",
       "      <td>-9.418672</td>\n",
       "      <td>Kwa Mzee Pange</td>\n",
       "      <td>0</td>\n",
       "      <td>Ruvuma / Southern Coast</td>\n",
       "      <td>...</td>\n",
       "      <td>soft</td>\n",
       "      <td>good</td>\n",
       "      <td>dry</td>\n",
       "      <td>dry</td>\n",
       "      <td>shallow well</td>\n",
       "      <td>shallow well</td>\n",
       "      <td>groundwater</td>\n",
       "      <td>other</td>\n",
       "      <td>other</td>\n",
       "      <td>old</td>\n",
       "    </tr>\n",
       "    <tr>\n",
       "      <th>49871</th>\n",
       "      <td>500.0</td>\n",
       "      <td>2013-03-27</td>\n",
       "      <td>Bruder</td>\n",
       "      <td>1260</td>\n",
       "      <td>BRUDER</td>\n",
       "      <td>35.006123</td>\n",
       "      <td>-10.950412</td>\n",
       "      <td>Kwa Mzee Turuka</td>\n",
       "      <td>0</td>\n",
       "      <td>Ruvuma / Southern Coast</td>\n",
       "      <td>...</td>\n",
       "      <td>soft</td>\n",
       "      <td>good</td>\n",
       "      <td>enough</td>\n",
       "      <td>enough</td>\n",
       "      <td>spring</td>\n",
       "      <td>spring</td>\n",
       "      <td>groundwater</td>\n",
       "      <td>communal standpipe</td>\n",
       "      <td>communal standpipe</td>\n",
       "      <td>fairly new</td>\n",
       "    </tr>\n",
       "  </tbody>\n",
       "</table>\n",
       "<p>5 rows × 40 columns</p>\n",
       "</div>"
      ],
      "text/plain": [
       "       amount_tsh date_recorded                  funder  gps_height  \\\n",
       "id                                                                    \n",
       "50785         0.0    2013-02-04                    Dmdd        1996   \n",
       "51630         0.0    2013-02-04  Government Of Tanzania        1569   \n",
       "17168         0.0    2013-02-01                     NaN        1567   \n",
       "45559         0.0    2013-01-22              Finn Water         267   \n",
       "49871       500.0    2013-03-27                  Bruder        1260   \n",
       "\n",
       "        installer  longitude   latitude                 wpt_name  num_private  \\\n",
       "id                                                                              \n",
       "50785        DMDD  35.290799  -4.059696  Dinamu Secondary School            0   \n",
       "51630         DWE  36.656709  -3.309214                  Kimnyak            0   \n",
       "17168         NaN  34.767863  -5.004344           Puma Secondary            0   \n",
       "45559  FINN WATER  38.058046  -9.418672           Kwa Mzee Pange            0   \n",
       "49871      BRUDER  35.006123 -10.950412          Kwa Mzee Turuka            0   \n",
       "\n",
       "                         basin            ...             water_quality  \\\n",
       "id                                        ...                             \n",
       "50785                 Internal            ...                      soft   \n",
       "51630                  Pangani            ...                      soft   \n",
       "17168                 Internal            ...                      soft   \n",
       "45559  Ruvuma / Southern Coast            ...                      soft   \n",
       "49871  Ruvuma / Southern Coast            ...                      soft   \n",
       "\n",
       "      quality_group      quantity  quantity_group                source  \\\n",
       "id                                                                        \n",
       "50785          good      seasonal        seasonal  rainwater harvesting   \n",
       "51630          good  insufficient    insufficient                spring   \n",
       "17168          good  insufficient    insufficient  rainwater harvesting   \n",
       "45559          good           dry             dry          shallow well   \n",
       "49871          good        enough          enough                spring   \n",
       "\n",
       "                source_type  source_class     waterpoint_type  \\\n",
       "id                                                              \n",
       "50785  rainwater harvesting       surface               other   \n",
       "51630                spring   groundwater  communal standpipe   \n",
       "17168  rainwater harvesting       surface               other   \n",
       "45559          shallow well   groundwater               other   \n",
       "49871                spring   groundwater  communal standpipe   \n",
       "\n",
       "      waterpoint_type_group construction_year_category  \n",
       "id                                                      \n",
       "50785                 other                 fairly new  \n",
       "51630    communal standpipe                 fairly new  \n",
       "17168                 other                 fairly new  \n",
       "45559                 other                        old  \n",
       "49871    communal standpipe                 fairly new  \n",
       "\n",
       "[5 rows x 40 columns]"
      ]
     },
     "execution_count": 57,
     "metadata": {},
     "output_type": "execute_result"
    }
   ],
   "source": [
    "test.head()"
   ]
  },
  {
   "cell_type": "code",
   "execution_count": 75,
   "metadata": {},
   "outputs": [],
   "source": [
    "# identify the numeric columns and categorical columns that will be used for analysis\n",
    "numeric =['amount_tsh','gps_height']\n",
    "categorical = ['basin', 'region', 'scheme_management', 'construction_year_category',\n",
    "               'extraction_type_class', 'management_group', 'payment',\n",
    "               'water_quality','quantity','source_type','waterpoint_type_group']"
   ]
  },
  {
   "cell_type": "code",
   "execution_count": 76,
   "metadata": {},
   "outputs": [
    {
     "name": "stdout",
     "output_type": "stream",
     "text": [
      "(14850, 13)\n",
      "(59400, 13)\n"
     ]
    }
   ],
   "source": [
    "test_final = test[['amount_tsh','gps_height','basin', 'region', 'scheme_management', 'construction_year_category',\n",
    "               'extraction_type_class', 'management_group', 'payment',\n",
    "               'water_quality','quantity','source_type','waterpoint_type_group']]\n",
    "train_final = train[['amount_tsh','gps_height','basin', 'region', 'scheme_management', 'construction_year_category',\n",
    "               'extraction_type_class', 'management_group', 'payment',\n",
    "               'water_quality','quantity','source_type','waterpoint_type_group']]\n",
    "\n",
    "print(test_final.shape)\n",
    "print(train_final.shape)"
   ]
  },
  {
   "cell_type": "code",
   "execution_count": 77,
   "metadata": {},
   "outputs": [],
   "source": [
    "min_max_scaler = MinMaxScaler()\n",
    "\n",
    "train_final['amount_tsh'] = min_max_scaler.fit_transform(train_final[['amount_tsh']])\n",
    "train_final['gps_height'] = min_max_scaler.fit_transform(train_final[['gps_height']])\n",
    "test_final['amount_tsh'] = min_max_scaler.fit_transform(test_final[['amount_tsh']])\n",
    "test_final['gps_height'] = min_max_scaler.fit_transform(test_final[['gps_height']])"
   ]
  },
  {
   "cell_type": "code",
   "execution_count": 78,
   "metadata": {},
   "outputs": [],
   "source": [
    "# turn the categorical variables into 1s and 0s\n",
    "train_final = pd.get_dummies(train_final[categorical])\n",
    "test_final = pd.get_dummies(test_final[categorical])\n"
   ]
  },
  {
   "cell_type": "code",
   "execution_count": 79,
   "metadata": {},
   "outputs": [
    {
     "data": {
      "text/plain": [
       "array([ True,  True,  True,  True,  True,  True,  True,  True,  True,\n",
       "        True,  True,  True,  True,  True,  True,  True,  True,  True,\n",
       "        True,  True,  True,  True,  True,  True,  True,  True,  True,\n",
       "        True,  True,  True,  True,  True,  True,  True,  True,  True,\n",
       "        True,  True,  True,  True,  True,  True,  True,  True,  True,\n",
       "        True,  True,  True,  True,  True,  True,  True,  True,  True,\n",
       "        True,  True,  True,  True,  True,  True,  True,  True,  True,\n",
       "        True,  True,  True,  True,  True,  True,  True,  True,  True,\n",
       "        True,  True,  True,  True,  True,  True,  True,  True,  True,\n",
       "        True,  True,  True,  True,  True,  True,  True,  True,  True])"
      ]
     },
     "execution_count": 79,
     "metadata": {},
     "output_type": "execute_result"
    }
   ],
   "source": [
    "# check that the columns match\n",
    "test_final.columns == train_final.columns"
   ]
  },
  {
   "cell_type": "code",
   "execution_count": 85,
   "metadata": {},
   "outputs": [],
   "source": [
    "from sklearn.neighbors import KNeighborsClassifier\n",
    "\n",
    "knn = KNeighborsClassifier(n_neighbors=5)\n",
    "knn.fit(train_final,y_train)\n",
    "predicted_values = knn.predict(test_final)"
   ]
  },
  {
   "cell_type": "code",
   "execution_count": 86,
   "metadata": {},
   "outputs": [],
   "source": [
    "submission = pd.DataFrame(test.index, columns = ['id'])\n",
    "submission['status_group'] = predicted_values\n",
    "submission.head()\n",
    "submission.to_csv('knn_new.csv', index=False)"
   ]
  },
  {
   "cell_type": "code",
   "execution_count": 83,
   "metadata": {},
   "outputs": [],
   "source": [
    "from sklearn.linear_model import LogisticRegression\n",
    "\n",
    "\n",
    "logreg = LogisticRegression()\n",
    "logreg.fit(train_final,y_train)\n",
    "predicted_values_logreg = logreg.predict(test_final)"
   ]
  },
  {
   "cell_type": "code",
   "execution_count": 84,
   "metadata": {},
   "outputs": [],
   "source": [
    "submission = pd.DataFrame(test.index, columns = ['id'])\n",
    "submission['status_group'] = predicted_values_logreg\n",
    "submission.head()\n",
    "submission.to_csv('knn_logreg_new.csv', index=False)"
   ]
  },
  {
   "cell_type": "code",
   "execution_count": null,
   "metadata": {},
   "outputs": [],
   "source": []
  },
  {
   "cell_type": "code",
   "execution_count": null,
   "metadata": {},
   "outputs": [],
   "source": []
  }
 ],
 "metadata": {
  "kernelspec": {
   "display_name": "Python 3",
   "language": "python",
   "name": "python3"
  },
  "language_info": {
   "codemirror_mode": {
    "name": "ipython",
    "version": 3
   },
   "file_extension": ".py",
   "mimetype": "text/x-python",
   "name": "python",
   "nbconvert_exporter": "python",
   "pygments_lexer": "ipython3",
   "version": "3.6.5"
  }
 },
 "nbformat": 4,
 "nbformat_minor": 2
}
